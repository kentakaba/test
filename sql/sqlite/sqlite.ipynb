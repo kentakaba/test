{
 "cells": [
  {
   "cell_type": "markdown",
   "metadata": {},
   "source": [
    "# test: sqlite"
   ]
  },
  {
   "cell_type": "code",
   "execution_count": 1,
   "metadata": {
    "collapsed": true
   },
   "outputs": [],
   "source": [
    "import os, sys, math\n",
    "import numpy as np\n",
    "import sqlite3\n",
    "import types"
   ]
  },
  {
   "cell_type": "code",
   "execution_count": 14,
   "metadata": {
    "collapsed": true
   },
   "outputs": [],
   "source": [
    "def checkDB(dbname):\n",
    "    sql = \"select * from {}\".format(dbname)\n",
    "    for r in c.execute(sql):\n",
    "        #print(r)\n",
    "        print(\"{} {} {}\".format(r[0], r[1], r[2]))"
   ]
  },
  {
   "cell_type": "code",
   "execution_count": 3,
   "metadata": {
    "collapsed": true
   },
   "outputs": [],
   "source": [
    "db = 'database.db'"
   ]
  },
  {
   "cell_type": "code",
   "execution_count": 4,
   "metadata": {
    "collapsed": true
   },
   "outputs": [],
   "source": [
    "con = sqlite3.connect(db)   # create connection object and connect to database"
   ]
  },
  {
   "cell_type": "code",
   "execution_count": 5,
   "metadata": {
    "collapsed": true
   },
   "outputs": [],
   "source": [
    "c = con.cursor()   # create cursor object"
   ]
  },
  {
   "cell_type": "markdown",
   "metadata": {},
   "source": [
    "# create table"
   ]
  },
  {
   "cell_type": "code",
   "execution_count": 6,
   "metadata": {},
   "outputs": [],
   "source": [
    "create_table = \"\"\"create table database (id int primary key, name char, value real)\"\"\""
   ]
  },
  {
   "cell_type": "code",
   "execution_count": 7,
   "metadata": {},
   "outputs": [
    {
     "data": {
      "text/plain": [
       "'create table database (id int primary key, name char, value real)'"
      ]
     },
     "execution_count": 7,
     "metadata": {},
     "output_type": "execute_result"
    }
   ],
   "source": [
    "create_table"
   ]
  },
  {
   "cell_type": "code",
   "execution_count": 8,
   "metadata": {},
   "outputs": [
    {
     "data": {
      "text/plain": [
       "<sqlite3.Cursor at 0x10f025500>"
      ]
     },
     "execution_count": 8,
     "metadata": {},
     "output_type": "execute_result"
    }
   ],
   "source": [
    "c.execute(create_table)"
   ]
  },
  {
   "cell_type": "markdown",
   "metadata": {},
   "source": [
    "# insert data to table"
   ]
  },
  {
   "cell_type": "code",
   "execution_count": 9,
   "metadata": {
    "collapsed": true
   },
   "outputs": [],
   "source": [
    "sql = \"insert into database values('1', 'aaaaa', '-5')\""
   ]
  },
  {
   "cell_type": "code",
   "execution_count": 10,
   "metadata": {
    "collapsed": true
   },
   "outputs": [],
   "source": [
    "c.execute(sql)\n",
    "con.commit()   # update database"
   ]
  },
  {
   "cell_type": "code",
   "execution_count": 15,
   "metadata": {},
   "outputs": [
    {
     "name": "stdout",
     "output_type": "stream",
     "text": [
      "1 aaaaa -5.0\n"
     ]
    }
   ],
   "source": [
    "checkDB(\"database\")"
   ]
  },
  {
   "cell_type": "code",
   "execution_count": 17,
   "metadata": {},
   "outputs": [
    {
     "name": "stdout",
     "output_type": "stream",
     "text": [
      "1 aaaaa -5.0\n",
      "2 bbbb -10.0\n"
     ]
    }
   ],
   "source": [
    "# insert data to table (2)\n",
    "\n",
    "arr = (2, \"bbbb\", -10)\n",
    "sql = \"\"\"insert into database values{}\"\"\".format(arr)\n",
    "\n",
    "c.execute(sql)\n",
    "con.commit()\n",
    "\n",
    "checkDB(\"database\")"
   ]
  },
  {
   "cell_type": "code",
   "execution_count": 18,
   "metadata": {},
   "outputs": [
    {
     "data": {
      "text/plain": [
       "['3', 'cccc', '-3']"
      ]
     },
     "execution_count": 18,
     "metadata": {},
     "output_type": "execute_result"
    }
   ],
   "source": [
    "# insert data to table (3)\n",
    "\n",
    "arr = []\n",
    "a1 = 3\n",
    "a2 = \"cccc\"\n",
    "a3 = -3\n",
    "arr.append(\"{}\".format(a1))\n",
    "arr.append(\"{}\".format(a2))\n",
    "arr.append(\"{}\".format(a3))\n",
    "\n",
    "arr"
   ]
  },
  {
   "cell_type": "code",
   "execution_count": 19,
   "metadata": {},
   "outputs": [
    {
     "data": {
      "text/plain": [
       "('3', 'cccc', '-3')"
      ]
     },
     "execution_count": 19,
     "metadata": {},
     "output_type": "execute_result"
    }
   ],
   "source": [
    "arr = tuple(arr)\n",
    "arr"
   ]
  },
  {
   "cell_type": "code",
   "execution_count": 20,
   "metadata": {},
   "outputs": [
    {
     "name": "stdout",
     "output_type": "stream",
     "text": [
      "1 aaaaa -5.0\n",
      "2 bbbb -10.0\n",
      "3 cccc -3.0\n"
     ]
    }
   ],
   "source": [
    "sql = \"\"\"insert into database values{}\"\"\".format(arr)\n",
    "\n",
    "c.execute(sql)\n",
    "con.commit()\n",
    "\n",
    "checkDB(\"database\")"
   ]
  },
  {
   "cell_type": "code",
   "execution_count": 22,
   "metadata": {},
   "outputs": [
    {
     "ename": "IntegrityError",
     "evalue": "UNIQUE constraint failed: database.id",
     "output_type": "error",
     "traceback": [
      "\u001b[0;31m---------------------------------------------------------------------------\u001b[0m",
      "\u001b[0;31mIntegrityError\u001b[0m                            Traceback (most recent call last)",
      "\u001b[0;32m<ipython-input-22-0bd79c4c8857>\u001b[0m in \u001b[0;36m<module>\u001b[0;34m()\u001b[0m\n\u001b[1;32m      1\u001b[0m \u001b[0msql\u001b[0m \u001b[0;34m=\u001b[0m \u001b[0;34m\"insert into database values('1', 'aaaaa', '-9')\"\u001b[0m\u001b[0;34m\u001b[0m\u001b[0m\n\u001b[0;32m----> 2\u001b[0;31m \u001b[0mc\u001b[0m\u001b[0;34m.\u001b[0m\u001b[0mexecute\u001b[0m\u001b[0;34m(\u001b[0m\u001b[0msql\u001b[0m\u001b[0;34m)\u001b[0m\u001b[0;34m\u001b[0m\u001b[0m\n\u001b[0m\u001b[1;32m      3\u001b[0m \u001b[0mcon\u001b[0m\u001b[0;34m.\u001b[0m\u001b[0mcommit\u001b[0m\u001b[0;34m(\u001b[0m\u001b[0;34m)\u001b[0m\u001b[0;34m\u001b[0m\u001b[0m\n\u001b[1;32m      4\u001b[0m \u001b[0;34m\u001b[0m\u001b[0m\n\u001b[1;32m      5\u001b[0m \u001b[0mcheckDB\u001b[0m\u001b[0;34m(\u001b[0m\u001b[0;34m\"database\"\u001b[0m\u001b[0;34m)\u001b[0m\u001b[0;34m\u001b[0m\u001b[0m\n",
      "\u001b[0;31mIntegrityError\u001b[0m: UNIQUE constraint failed: database.id"
     ]
    }
   ],
   "source": [
    "# insert data to table (4): try with existing id (primary key)\n",
    "\n",
    "sql = \"insert into database values('1', 'aaaaa', '-9')\"\n",
    "c.execute(sql)\n",
    "con.commit()\n",
    "\n",
    "checkDB(\"database\")\n",
    "\n",
    "\"\"\" I see. you get an error like this.\n",
    "---------------------------------------------------------------------------\n",
    "IntegrityError                            Traceback (most recent call last)\n",
    "<ipython-input-21-101ade6d8d01> in <module>()\n",
    "      1 sql = \"insert into database values('1', 'aaaaa', '-9')\"\n",
    "----> 2 c.execute(sql)\n",
    "      3 con.commit()\n",
    "      4 \n",
    "      5 checkDB(\"database\")\n",
    "\n",
    "IntegrityError: UNIQUE constraint failed: database.id\n",
    "\"\"\""
   ]
  },
  {
   "cell_type": "code",
   "execution_count": 23,
   "metadata": {},
   "outputs": [
    {
     "name": "stdout",
     "output_type": "stream",
     "text": [
      "1 aaaaa -5.0\n",
      "2 bbbb -10.0\n",
      "3 cccc -3.0\n",
      "4 aaaaa -9.0\n"
     ]
    }
   ],
   "source": [
    "# insert data with new id\n",
    "\n",
    "sql = \"insert into database values('4', 'aaaaa', '-9')\"\n",
    "c.execute(sql)\n",
    "con.commit()\n",
    "\n",
    "checkDB(\"database\")"
   ]
  },
  {
   "cell_type": "markdown",
   "metadata": {},
   "source": [
    "# insert multiple data at once"
   ]
  },
  {
   "cell_type": "code",
   "execution_count": 24,
   "metadata": {},
   "outputs": [
    {
     "name": "stdout",
     "output_type": "stream",
     "text": [
      "1 aaaaa -5.0\n",
      "2 bbbb -10.0\n",
      "3 cccc -3.0\n",
      "4 aaaaa -9.0\n",
      "5 dddd -9.0\n",
      "6 eeee -3.0\n",
      "7 ffff -5.0\n"
     ]
    }
   ],
   "source": [
    "arr = [\n",
    "    (5, \"dddd\", -9),\n",
    "    (6, \"eeee\", -3),\n",
    "    (7, \"ffff\", -5)]\n",
    "\n",
    "sql = \"\"\"insert into database (id, name, value) values (?,?,?)\"\"\"\n",
    "\n",
    "c.executemany(sql,arr)\n",
    "con.commit()\n",
    "\n",
    "checkDB(\"database\")"
   ]
  },
  {
   "cell_type": "markdown",
   "metadata": {},
   "source": [
    "# update table"
   ]
  },
  {
   "cell_type": "code",
   "execution_count": 28,
   "metadata": {},
   "outputs": [
    {
     "data": {
      "text/plain": [
       "'UPDATE database SET value=? WHERE id=?'"
      ]
     },
     "execution_count": 28,
     "metadata": {},
     "output_type": "execute_result"
    }
   ],
   "source": [
    "# update value for id XX\n",
    "sql_update = 'UPDATE database SET value=? WHERE id=?'\n",
    "sql_update"
   ]
  },
  {
   "cell_type": "code",
   "execution_count": 36,
   "metadata": {
    "collapsed": true
   },
   "outputs": [],
   "source": [
    "arr = [6, 2]    # update value for id #2\n",
    "arr = tuple(arr)"
   ]
  },
  {
   "cell_type": "code",
   "execution_count": 37,
   "metadata": {},
   "outputs": [
    {
     "name": "stdout",
     "output_type": "stream",
     "text": [
      "1 aaaaa -5.0\n",
      "2 bbbb 6.0\n",
      "3 cccc -3.0\n",
      "4 aaaaa -9.0\n",
      "5 dddd -9.0\n",
      "6 eeee -3.0\n",
      "7 ffff -5.0\n"
     ]
    }
   ],
   "source": [
    "c.execute(sql_update, arr)\n",
    "con.commit()\n",
    "\n",
    "checkDB(\"database\")"
   ]
  },
  {
   "cell_type": "markdown",
   "metadata": {},
   "source": [
    "# delete table"
   ]
  },
  {
   "cell_type": "code",
   "execution_count": 44,
   "metadata": {},
   "outputs": [
    {
     "name": "stdout",
     "output_type": "stream",
     "text": [
      "1 aaaaa -5.0\n",
      "2 bbbb 6.0\n",
      "3 cccc -3.0\n",
      "4 aaaaa -9.0\n",
      "5 dddd -9.0\n",
      "6 eeee -3.0\n",
      "7 ffff -5.0\n"
     ]
    }
   ],
   "source": [
    "checkDB(\"database\")"
   ]
  },
  {
   "cell_type": "code",
   "execution_count": 45,
   "metadata": {},
   "outputs": [
    {
     "data": {
      "text/plain": [
       "<sqlite3.Cursor at 0x10f025500>"
      ]
     },
     "execution_count": 45,
     "metadata": {},
     "output_type": "execute_result"
    }
   ],
   "source": [
    "c.execute('DELETE FROM database where id==7')"
   ]
  },
  {
   "cell_type": "code",
   "execution_count": 46,
   "metadata": {
    "collapsed": true
   },
   "outputs": [],
   "source": [
    "con.commit()"
   ]
  },
  {
   "cell_type": "code",
   "execution_count": 47,
   "metadata": {},
   "outputs": [
    {
     "name": "stdout",
     "output_type": "stream",
     "text": [
      "1 aaaaa -5.0\n",
      "2 bbbb 6.0\n",
      "3 cccc -3.0\n",
      "4 aaaaa -9.0\n",
      "5 dddd -9.0\n",
      "6 eeee -3.0\n"
     ]
    }
   ],
   "source": [
    "checkDB(\"database\")"
   ]
  },
  {
   "cell_type": "code",
   "execution_count": 48,
   "metadata": {
    "collapsed": true
   },
   "outputs": [],
   "source": [
    "c.close()    # close cursor"
   ]
  },
  {
   "cell_type": "code",
   "execution_count": 49,
   "metadata": {
    "collapsed": true
   },
   "outputs": [],
   "source": [
    "con.close()   # close database"
   ]
  },
  {
   "cell_type": "code",
   "execution_count": null,
   "metadata": {
    "collapsed": true
   },
   "outputs": [],
   "source": []
  }
 ],
 "metadata": {
  "kernelspec": {
   "display_name": "Python 3",
   "language": "python",
   "name": "python3"
  },
  "language_info": {
   "codemirror_mode": {
    "name": "ipython",
    "version": 3
   },
   "file_extension": ".py",
   "mimetype": "text/x-python",
   "name": "python",
   "nbconvert_exporter": "python",
   "pygments_lexer": "ipython3",
   "version": "3.6.2"
  }
 },
 "nbformat": 4,
 "nbformat_minor": 2
}
