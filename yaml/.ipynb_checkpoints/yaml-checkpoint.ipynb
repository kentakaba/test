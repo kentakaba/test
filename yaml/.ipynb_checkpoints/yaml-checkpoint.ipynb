{
 "cells": [
  {
   "cell_type": "code",
   "execution_count": 1,
   "metadata": {
    "collapsed": true
   },
   "outputs": [],
   "source": [
    "import os, sys, math\n",
    "import numpy as np\n",
    "\n",
    "import yaml"
   ]
  },
  {
   "cell_type": "code",
   "execution_count": 7,
   "metadata": {},
   "outputs": [],
   "source": [
    "with open('example2.yaml', 'rt') as f:\n",
    "    config = yaml.load(f)"
   ]
  },
  {
   "cell_type": "code",
   "execution_count": 8,
   "metadata": {
    "scrolled": true
   },
   "outputs": [
    {
     "data": {
      "text/plain": [
       "{'molecules': {'T4_lysozyme': {'filepath': 'T4.pdb'},\n",
       "  'p-xylene': {'antechamber': {'charge_method': 'bcc'},\n",
       "   'smiles': 'CC1=CC=C(C=C1)C'}},\n",
       " 'options': {'default_number_of_iterations': 2000,\n",
       "  'experiments_dir': 'experiments',\n",
       "  'minimize': True,\n",
       "  'output_dir': 'output',\n",
       "  'pressure': None,\n",
       "  'randomize_ligand': True,\n",
       "  'setup_dir': 'setup',\n",
       "  'temperature': '300*kelvin',\n",
       "  'verbose': True},\n",
       " 'solvents': {'GBSA': {'implicit_solvent': 'OBC2',\n",
       "   'nonbonded_method': 'NoCutoff',\n",
       "   'solvent_dielectric': 78.5}},\n",
       " 'systems': {'T4-xylene-complex': {'leap': {'parameters': ['leaprc.ff14SB',\n",
       "     'leaprc.gaff']},\n",
       "   'ligand': 'p-xylene',\n",
       "   'pack': True,\n",
       "   'receptor': 'T4_lysozyme',\n",
       "   'solvent': 'GBSA'}}}"
      ]
     },
     "execution_count": 8,
     "metadata": {},
     "output_type": "execute_result"
    }
   ],
   "source": [
    "config"
   ]
  },
  {
   "cell_type": "code",
   "execution_count": 17,
   "metadata": {},
   "outputs": [
    {
     "data": {
      "text/plain": [
       "{'T4_lysozyme': {'filepath': 'T4.pdb'},\n",
       " 'p-xylene': {'antechamber': {'charge_method': 'bcc'},\n",
       "  'smiles': 'CC1=CC=C(C=C1)C'}}"
      ]
     },
     "execution_count": 17,
     "metadata": {},
     "output_type": "execute_result"
    }
   ],
   "source": [
    "config['molecules']"
   ]
  },
  {
   "cell_type": "code",
   "execution_count": 22,
   "metadata": {},
   "outputs": [
    {
     "data": {
      "text/plain": [
       "dict_items([('T4_lysozyme', {'filepath': 'T4.pdb'}), ('p-xylene', {'smiles': 'CC1=CC=C(C=C1)C', 'antechamber': {'charge_method': 'bcc'}})])"
      ]
     },
     "execution_count": 22,
     "metadata": {},
     "output_type": "execute_result"
    }
   ],
   "source": [
    "config['molecules'].items()"
   ]
  },
  {
   "cell_type": "code",
   "execution_count": 24,
   "metadata": {},
   "outputs": [
    {
     "data": {
      "text/plain": [
       "dict_keys(['T4_lysozyme', 'p-xylene'])"
      ]
     },
     "execution_count": 24,
     "metadata": {},
     "output_type": "execute_result"
    }
   ],
   "source": [
    "config['molecules'].keys()"
   ]
  },
  {
   "cell_type": "code",
   "execution_count": 25,
   "metadata": {},
   "outputs": [
    {
     "data": {
      "text/plain": [
       "dict_values([{'filepath': 'T4.pdb'}, {'smiles': 'CC1=CC=C(C=C1)C', 'antechamber': {'charge_method': 'bcc'}}])"
      ]
     },
     "execution_count": 25,
     "metadata": {},
     "output_type": "execute_result"
    }
   ],
   "source": [
    "config['molecules'].values()"
   ]
  },
  {
   "cell_type": "code",
   "execution_count": 27,
   "metadata": {},
   "outputs": [
    {
     "name": "stdout",
     "output_type": "stream",
     "text": [
      "T4_lysozyme {'filepath': 'T4.pdb'}\n",
      "1\n",
      "p-xylene {'smiles': 'CC1=CC=C(C=C1)C', 'antechamber': {'charge_method': 'bcc'}}\n",
      "2\n"
     ]
    }
   ],
   "source": [
    "for k,v in config['molecules'].items():\n",
    "    print(k, v)\n",
    "    print(len(v))"
   ]
  },
  {
   "cell_type": "code",
   "execution_count": null,
   "metadata": {
    "collapsed": true
   },
   "outputs": [],
   "source": []
  },
  {
   "cell_type": "code",
   "execution_count": 15,
   "metadata": {},
   "outputs": [
    {
     "data": {
      "text/plain": [
       "2000"
      ]
     },
     "execution_count": 15,
     "metadata": {},
     "output_type": "execute_result"
    }
   ],
   "source": [
    "config['options']['default_number_of_iterations']"
   ]
  },
  {
   "cell_type": "code",
   "execution_count": null,
   "metadata": {
    "collapsed": true
   },
   "outputs": [],
   "source": []
  },
  {
   "cell_type": "code",
   "execution_count": 16,
   "metadata": {},
   "outputs": [
    {
     "data": {
      "text/plain": [
       "2000"
      ]
     },
     "execution_count": 16,
     "metadata": {},
     "output_type": "execute_result"
    }
   ],
   "source": [
    "options = config['options']\n",
    "options['default_number_of_iterations']"
   ]
  },
  {
   "cell_type": "code",
   "execution_count": null,
   "metadata": {
    "collapsed": true
   },
   "outputs": [],
   "source": []
  },
  {
   "cell_type": "code",
   "execution_count": null,
   "metadata": {
    "collapsed": true
   },
   "outputs": [],
   "source": []
  },
  {
   "cell_type": "code",
   "execution_count": null,
   "metadata": {
    "collapsed": true
   },
   "outputs": [],
   "source": []
  },
  {
   "cell_type": "code",
   "execution_count": null,
   "metadata": {
    "collapsed": true
   },
   "outputs": [],
   "source": []
  }
 ],
 "metadata": {
  "kernelspec": {
   "display_name": "Python 3",
   "language": "python",
   "name": "python3"
  },
  "language_info": {
   "codemirror_mode": {
    "name": "ipython",
    "version": 3
   },
   "file_extension": ".py",
   "mimetype": "text/x-python",
   "name": "python",
   "nbconvert_exporter": "python",
   "pygments_lexer": "ipython3",
   "version": "3.6.2"
  }
 },
 "nbformat": 4,
 "nbformat_minor": 2
}
